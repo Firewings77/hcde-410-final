{
 "cells": [
  {
   "cell_type": "markdown",
   "id": "a57422d1-e3ad-4dca-9f40-e62816416178",
   "metadata": {},
   "source": [
    "# Overview and Research Questions\n",
    "## Motivation and problem statement\n",
    "\n",
    "As a student currently studying abnormal psychology, I’m particularly interested in understanding how factors like screen time can impact mental health. In our tech-driven society, people are increasingly connected to their devices, and this constant connection might have unseen effects on mental well-being. Given how integral technology has become to our daily lives, it’s essential to explore how screen time may influence mental health across different age groups.\n",
    "\n",
    "This analysis will focus on examining the relationship between technology usage and mental health indicators such as stress, anxiety, and depression. By studying how screen time affects people at different life stages, I hope to contribute insights into how digital habits might support or strain mental well-being. This topic feels especially meaningful in light of our increasing reliance on technology, as understanding these impacts can inform healthier digital practices and potentially guide age-specific recommendations for mental health.\n",
    "\n",
    "## Research Questions\n",
    "\n",
    "- **Primary Question**: How does screen time correlate with self-reported mental health indicators (e.g., anxiety, stress) across different age groups?\n",
    "- **Secondary/Exploratory Question**: Are certain types of screen time activities (e.g., social media, gaming) more strongly associated with negative mental health outcomes? Are there specific age groups that show a higher sensitivity to screen time in terms of mental health impacts?\n",
    "\n",
    "# Background and Related Work\n",
    "\n",
    "Research has consistently shown links between screen time and mental health issues, particularly among adolescents and young adults. Studies have found that greater screen use is often associated with symptoms of depression, anxiety, and stress. However, the impact varies based on the type of screen use, duration, and demographic factors like age and gender.\n",
    "\n",
    "- **A study published in Frontiers in Psychology** examined the relationship between screen time and addictive behaviors related to gaming and social media. They found that while screen time itself was linked to addictive symptoms, it was primarily the negative effects of excessive use, such as disrupted sleep and mood changes, that were associated with mental health issues. (https://www.frontiersin.org/journals/psychology/articles/10.3389/fpsyg.2023.1258784/full)\n",
    "- **A study by Yale and Columbia researchers (2023)**, using data from the Adolescent Brain Cognitive Development (ABCD) Study, revealed that 9- and 10-year-olds who spent more time on screens were more likely to experience symptoms of depression and anxiety over a two-year period. These changes were partly related to alterations in brain development associated with frequent screen use. (https://medicine.yale.edu/news-article/yale-study-probes-connection-between-excessive-screen-media-activity-and-mental-health-problems-in-youth/)\n",
    "- **A systematic review published in BMC Psychology** found that excessive screen time in adolescents was often associated with mental health challenges, with social media use linked to lower well-being and, particularly for girls, a higher risk of depression. (https://bmcpsychology.biomedcentral.com/articles/10.1186/s40359-023-01166-7)\n",
    "\n",
    "These findings emphasize the importance of examining different types of technology use and considering age and gender differences. Building on this research, my study will focus on specific types of screen time and age group comparisons to provide a more detailed look at how screen time affects mental health.\n",
    "\n",
    "## Data selected for analysis\n",
    "\n",
    "For this analysis, I will use the Mental Health and Technology Usage dataset available on Kaggle. This dataset provides self-reported information on various aspects of technology usage (e.g., social media, gaming, general screen time) and mental health indicators (e.g., stress, anxiety, and depressive symptoms). It also includes demographic details such as age and gender, which will allow me to segment my analysis by age group and explore age-specific trends in screen time and mental health.\n",
    "\n",
    "- **Link to the Dataset**: [Mental Health and Technology Usage Dataset on Kaggle](https://www.kaggle.com/datasets/waqi786/mental-health-and-technology-usage-dataset)\n",
    "- License/Terms of Use: The dataset is publicly available under the Apache 2.0 license, allowing for non-commercial research.\n",
    "- Dataset Suitability: This dataset is ideal for my project as it directly addresses both technology usage and mental health indicators across different demographics. Its focus on age as a variable will enable me to  segment and analyze patterns by age group, aligning well with my research goal of understanding age-specific mental health impacts of screen time.\n",
    "- Ethical Considerations: Since this data is self-reported, it may contain biases related to personal perceptions of mental health and technology use.\n",
    "\n",
    "# Methodology\n",
    "## Data Cleaning and Preparation\n",
    "\n",
    "- **Initial Cleaning**: Remove or address missing data, especially in important areas like age, screen time, and mental health indicators.\n",
    "- **Define Age Groups**: Break down participants into age groups (e.g., teens, young adults, middle-aged adults, seniors) for a better comparison.\n",
    "- **Categorize Screen Time**: Group screen activities into categories such as social media, gaming, and general browsing, as suggested in feedback.\n",
    "\n",
    "## Analytical Methods\n",
    "\n",
    "- **Descriptive Statistics**: Calculate the averages of screen time and mental health scores for each age group.\n",
    "- **Correlation Analysis**: Use correlation tests to see if there’s a relationship between screen time and mental health indicators within each age group.\n",
    "- **Group Comparison**: Use t-tests or ANOVA to compare mental health outcomes across different levels of screen time in each age group.\n",
    "- **Multiple Regression Analysis**: Conduct regression analysis to check if screen time can predict mental health indicators, while controlling for age and screen activity type.\n",
    "\n",
    "## Presentation of Findings\n",
    "\n",
    "- **Visualizations**: Use bar charts and box plots to show the distribution of screen time and mental health indicators across age groups. Scatter plots can help visualize the relationships between screen time and mental health.\n",
    "- **Tables**: Summarize key findings in tables to make it easy to compare patterns across age groups and types of screen activities.\n",
    "\n",
    "I picked these methods because they give me a straightforward way to look at relationships in the data and interpret the results carefully. By focusing on correlations and breaking down the data by age and type of screen activity, I can look for patterns that might offer useful insights without implying cause and effect. This approach would lets me dig into the data while keeping the analysis balanced and clear.\n",
    "\n",
    "# Unknowns and dependencies\n",
    "One key dependency for this project is the quality and completeness of the dataset, as any missing or inconsistent data in critical variables (e.g., screen time, age, or mental health indicators) may impact the depth and accuracy of the analysis. Additionally, since this dataset is self-reported, some responses may not fully capture the complexity of mental health impacts, and biases could affect the results."
   ]
  }
 ],
 "metadata": {
  "kernelspec": {
   "display_name": "Python 3 (ipykernel)",
   "language": "python",
   "name": "python3"
  },
  "language_info": {
   "codemirror_mode": {
    "name": "ipython",
    "version": 3
   },
   "file_extension": ".py",
   "mimetype": "text/x-python",
   "name": "python",
   "nbconvert_exporter": "python",
   "pygments_lexer": "ipython3",
   "version": "3.10.13"
  }
 },
 "nbformat": 4,
 "nbformat_minor": 5
}
